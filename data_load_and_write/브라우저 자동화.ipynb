{
 "cells": [
  {
   "cell_type": "code",
   "execution_count": 1,
   "id": "a7ae2ff8-6c97-4453-9f18-e988ee3b887d",
   "metadata": {},
   "outputs": [],
   "source": [
    "from selenium import webdriver"
   ]
  },
  {
   "cell_type": "code",
   "execution_count": 2,
   "id": "2276831d-baab-43d7-b3b3-b15a84497487",
   "metadata": {},
   "outputs": [],
   "source": [
    "driver_loc = \"../externlib/chromedriver/chromedriver.exe\""
   ]
  },
  {
   "cell_type": "code",
   "execution_count": 3,
   "id": "47145136-c4bf-4c6d-93ae-73ec6204178a",
   "metadata": {},
   "outputs": [
    {
     "name": "stderr",
     "output_type": "stream",
     "text": [
      "C:\\Users\\SMART-05\\AppData\\Local\\Temp/ipykernel_8328/867625314.py:4: DeprecationWarning: executable_path has been deprecated, please pass in a Service object\n",
      "  driver = webdriver.Chrome(driver_loc , options=options)\n"
     ]
    }
   ],
   "source": [
    "options = webdriver.ChromeOptions()\n",
    "options.add_argument(\"window-size=1920x1080\")\n",
    "\n",
    "driver = webdriver.Chrome(driver_loc , options=options)"
   ]
  },
  {
   "cell_type": "code",
   "execution_count": 7,
   "id": "fe8cf11c-027a-44ca-ac06-aa2fcef30efe",
   "metadata": {},
   "outputs": [
    {
     "data": {
      "text/plain": [
       "True"
      ]
     },
     "execution_count": 7,
     "metadata": {},
     "output_type": "execute_result"
    }
   ],
   "source": [
    "# 스크린샷\n",
    "driver.save_screenshot(\"./google.png\")"
   ]
  },
  {
   "cell_type": "code",
   "execution_count": 54,
   "id": "6fc08a68-794f-4873-86d7-525e1c11992b",
   "metadata": {},
   "outputs": [],
   "source": [
    "baseUrl = \"https://www.google.com\""
   ]
  },
  {
   "cell_type": "code",
   "execution_count": 62,
   "id": "2ec42bd5-4742-4875-a1b4-829facb29e14",
   "metadata": {},
   "outputs": [],
   "source": [
    "driver.get(baseUrl)"
   ]
  },
  {
   "cell_type": "code",
   "execution_count": 43,
   "id": "2895a741-1e96-4e19-bd5f-a4dead2665fb",
   "metadata": {},
   "outputs": [],
   "source": [
    "#검색할 값 지정\n",
    "inputKey = \"selenium\""
   ]
  },
  {
   "cell_type": "code",
   "execution_count": 44,
   "id": "569e5920-0fcc-4f10-b1d2-a5d6cf9132b7",
   "metadata": {},
   "outputs": [],
   "source": [
    "# 여기는 복사해온 XPath\n",
    "googleSearchInput = \"/html/body/div[1]/div[3]/form/div[1]/div[1]/div[1]/div/div[2]/input\""
   ]
  },
  {
   "cell_type": "code",
   "execution_count": 63,
   "id": "af746335-81b0-4545-bae4-7870de78752c",
   "metadata": {
    "tags": []
   },
   "outputs": [
    {
     "name": "stderr",
     "output_type": "stream",
     "text": [
      "C:\\Users\\SMART-05\\AppData\\Local\\Temp/ipykernel_8328/3168555604.py:2: DeprecationWarning: find_element_by_xpath is deprecated. Please use find_element(by=By.XPATH, value=xpath) instead\n",
      "  driver.find_element_by_xpath(googleSearchInput).send_keys(inputKey)\n"
     ]
    }
   ],
   "source": [
    "# XPath와 검색할값인 inputkey 사용\n",
    "driver.find_element_by_xpath(googleSearchInput).send_keys(inputKey)"
   ]
  },
  {
   "cell_type": "code",
   "execution_count": 46,
   "id": "e20acd56-f940-4c7b-a9fb-81cc2771b2b0",
   "metadata": {},
   "outputs": [],
   "source": [
    "from selenium.webdriver.common.keys import Keys"
   ]
  },
  {
   "cell_type": "code",
   "execution_count": 64,
   "id": "8a3e44a7-2f00-4821-b865-5c970b3aeb0a",
   "metadata": {
    "tags": []
   },
   "outputs": [
    {
     "name": "stderr",
     "output_type": "stream",
     "text": [
      "C:\\Users\\SMART-05\\AppData\\Local\\Temp/ipykernel_8328/3961873171.py:1: DeprecationWarning: find_element_by_xpath is deprecated. Please use find_element(by=By.XPATH, value=xpath) instead\n",
      "  driver.find_element_by_xpath(googleSearchInput).send_keys(Keys.ENTER)\n"
     ]
    }
   ],
   "source": [
    "driver.find_element_by_xpath(googleSearchInput).send_keys(Keys.ENTER)"
   ]
  },
  {
   "cell_type": "code",
   "execution_count": 60,
   "id": "9e7ca376-816a-4e11-84ae-a25fe3cb000b",
   "metadata": {},
   "outputs": [],
   "source": [
    "seleniumLink = \"/html/body/div[7]/div/div[10]/div[1]/div[2]/div[2]/div/div/div[1]/block-component/div/div[1]/div/div/div/div/div[1]/div/div/div/div/div/div[6]/div/div/div[1]/a/h3\""
   ]
  },
  {
   "cell_type": "code",
   "execution_count": 65,
   "id": "69d929c1-c4e8-417d-b6c5-c32a03bac4c7",
   "metadata": {},
   "outputs": [
    {
     "name": "stderr",
     "output_type": "stream",
     "text": [
      "C:\\Users\\SMART-05\\AppData\\Local\\Temp/ipykernel_8328/3119252048.py:1: DeprecationWarning: find_element_by_xpath is deprecated. Please use find_element(by=By.XPATH, value=xpath) instead\n",
      "  driver.find_element_by_xpath(seleniumLink).click()\n"
     ]
    }
   ],
   "source": [
    "driver.find_element_by_xpath(seleniumLink).click()"
   ]
  },
  {
   "cell_type": "code",
   "execution_count": 36,
   "id": "d5989c51-a85d-4f10-8d12-f274f22bb1be",
   "metadata": {
    "collapsed": true,
    "jupyter": {
     "outputs_hidden": true
    },
    "tags": []
   },
   "outputs": [
    {
     "data": {
      "text/plain": [
       "'https://www.google.com/search?q=selenium&source=hp&ei=BqNPYs_VMNXGmAWWqKXoAQ&iflsig=AHkkrS4AAAAAYk-xFunIH6xyn7nV54xTT2LoKD5nevLj&ved=0ahUKEwjP8NnKuoP3AhVVI6YKHRZUCR0Q4dUDCAk&uact=5&oq=selenium&gs_lcp=Cgdnd3Mtd2l6EAMyCAgAEIAEELEDMgUIABCABDILCAAQgAQQsQMQgwEyBQgAEIAEMgUIABCABDIFCAAQgAQyBQgAEIAEMgUIABCABDIFCAAQgAQyBQgAEIAEOggILhCABBCxA1AAWBRg0yJoAHAAeACAAcwBiAGLBZIBBTAuMy4xmAEAoAEB&sclient=gws-wiz'"
      ]
     },
     "execution_count": 36,
     "metadata": {},
     "output_type": "execute_result"
    }
   ],
   "source": [
    "# 현재 내 위치 확인\n",
    "driver.current_url"
   ]
  },
  {
   "cell_type": "code",
   "execution_count": 35,
   "id": "2fd5536e-56f1-4517-8c6c-6649cade98cf",
   "metadata": {
    "tags": []
   },
   "outputs": [],
   "source": [
    "# resp.text와 같은 효과. html으로 간주하고 모두 가져온다.\n",
    "# 페이지 소스를 수집!\n",
    "driver.page_source\n",
    "\n",
    "html = driver.page_source\n",
    "\n",
    "import bs4\n",
    "\n",
    "bsobj = bs4.BeautifulSoup(html,\"html.parser\")"
   ]
  },
  {
   "cell_type": "code",
   "execution_count": null,
   "id": "e55d8233-309b-43e7-93ad-2770f472ae01",
   "metadata": {},
   "outputs": [],
   "source": []
  }
 ],
 "metadata": {
  "kernelspec": {
   "display_name": "Python 3 (ipykernel)",
   "language": "python",
   "name": "python3"
  },
  "language_info": {
   "codemirror_mode": {
    "name": "ipython",
    "version": 3
   },
   "file_extension": ".py",
   "mimetype": "text/x-python",
   "name": "python",
   "nbconvert_exporter": "python",
   "pygments_lexer": "ipython3",
   "version": "3.9.7"
  }
 },
 "nbformat": 4,
 "nbformat_minor": 5
}

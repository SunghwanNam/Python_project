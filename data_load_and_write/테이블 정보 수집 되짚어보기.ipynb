{
 "cells": [
  {
   "cell_type": "code",
   "execution_count": 1,
   "id": "bfbd48e3-38ce-40f3-9ee7-f7ee27f281d3",
   "metadata": {},
   "outputs": [],
   "source": [
    "import pandas as pd"
   ]
  },
  {
   "cell_type": "code",
   "execution_count": 2,
   "id": "eb729bd5-3303-4347-aba1-f7bc18f7e884",
   "metadata": {},
   "outputs": [],
   "source": [
    "import requests, bs4"
   ]
  },
  {
   "cell_type": "code",
   "execution_count": 3,
   "id": "74866781-824f-4d4d-9cdd-1c45d521f2b3",
   "metadata": {},
   "outputs": [],
   "source": [
    "targetUrl = \"https://en.wikipedia.org/wiki/Help:Table\""
   ]
  },
  {
   "cell_type": "code",
   "execution_count": 5,
   "id": "9b369280-6edb-4594-9e01-9a0f80505657",
   "metadata": {},
   "outputs": [],
   "source": [
    "resp = requests.get(targetUrl)"
   ]
  },
  {
   "cell_type": "code",
   "execution_count": 6,
   "id": "aecf4de0-b529-445e-8567-61abe165d50f",
   "metadata": {},
   "outputs": [],
   "source": [
    "resp.encoding = 'utf-8'"
   ]
  },
  {
   "cell_type": "code",
   "execution_count": 7,
   "id": "26eacbf9-958f-46d4-84af-9694111c019b",
   "metadata": {},
   "outputs": [],
   "source": [
    "html = resp.text"
   ]
  },
  {
   "cell_type": "code",
   "execution_count": 10,
   "id": "bf1b71f4-f7d4-459b-ab3e-94ffef530dc8",
   "metadata": {
    "tags": []
   },
   "outputs": [],
   "source": [
    "bs = bs4.BeautifulSoup(html,'html.parser')"
   ]
  },
  {
   "cell_type": "code",
   "execution_count": 13,
   "id": "9197829c-8bd5-43fd-8785-caf0b2865a6d",
   "metadata": {},
   "outputs": [],
   "source": [
    "tabletag = bs.find(name=\"table\", attrs = {\"class\":\"wikitable\", \"style\":\"height:14em\"})\n",
    "#tabletag = bs.find(\"table\",{\"class\":\"wikitable\", \"style\":\"height:14em\"}) 둘 다 같다."
   ]
  },
  {
   "cell_type": "code",
   "execution_count": 15,
   "id": "8c4bf76e-58c7-4b5e-8219-c407cbd3c0c8",
   "metadata": {
    "tags": []
   },
   "outputs": [
    {
     "data": {
      "text/plain": [
       "<tr>\n",
       "<th>Left</th>\n",
       "<th>Center</th>\n",
       "<th>Right\n",
       "</th></tr>"
      ]
     },
     "execution_count": 15,
     "metadata": {},
     "output_type": "execute_result"
    }
   ],
   "source": [
    "tabletag.find(\"tr\")"
   ]
  },
  {
   "cell_type": "code",
   "execution_count": 20,
   "id": "3cbf5770-59bb-496e-ac77-0bc987008e65",
   "metadata": {},
   "outputs": [],
   "source": [
    "rows = tabletag.findAll(\"tr\")\n",
    "#findAll을 했기 때문에  tr태그를 리스트에 넣어 순서대로 한 row씩 받아온다!!!!"
   ]
  },
  {
   "cell_type": "code",
   "execution_count": 22,
   "id": "257edc30-1272-4667-a2ad-42cd2560e01b",
   "metadata": {},
   "outputs": [],
   "source": [
    "# 컬럼은 아직 받지 않았다. 이거 어떻게 구하지?\n",
    "# 무작정 집어넣어도 일단 row가 4개라 일단 받아는 진다."
   ]
  },
  {
   "cell_type": "code",
   "execution_count": 23,
   "id": "560854b4-a44a-4f61-89ec-25391d92aebe",
   "metadata": {
    "tags": []
   },
   "outputs": [
    {
     "name": "stderr",
     "output_type": "stream",
     "text": [
      "C:\\Users\\SMART-05\\Anaconda3\\lib\\site-packages\\pandas\\core\\internals\\construction.py:540: VisibleDeprecationWarning: Creating an ndarray from ragged nested sequences (which is a list-or-tuple of lists-or-tuples-or ndarrays with different lengths or shapes) is deprecated. If you meant to do this, you must specify 'dtype=object' when creating the ndarray.\n",
      "  values = np.array([convert(v) for v in values])\n"
     ]
    },
    {
     "data": {
      "text/html": [
       "<div>\n",
       "<style scoped>\n",
       "    .dataframe tbody tr th:only-of-type {\n",
       "        vertical-align: middle;\n",
       "    }\n",
       "\n",
       "    .dataframe tbody tr th {\n",
       "        vertical-align: top;\n",
       "    }\n",
       "\n",
       "    .dataframe thead th {\n",
       "        text-align: right;\n",
       "    }\n",
       "</style>\n",
       "<table border=\"1\" class=\"dataframe\">\n",
       "  <thead>\n",
       "    <tr style=\"text-align: right;\">\n",
       "      <th></th>\n",
       "      <th>0</th>\n",
       "      <th>1</th>\n",
       "      <th>2</th>\n",
       "      <th>3</th>\n",
       "      <th>4</th>\n",
       "      <th>5</th>\n",
       "    </tr>\n",
       "  </thead>\n",
       "  <tbody>\n",
       "    <tr>\n",
       "      <th>0</th>\n",
       "      <td>\\n</td>\n",
       "      <td>[Left]</td>\n",
       "      <td>\\n</td>\n",
       "      <td>[Center]</td>\n",
       "      <td>\\n</td>\n",
       "      <td>[Right\\n]</td>\n",
       "    </tr>\n",
       "    <tr>\n",
       "      <th>1</th>\n",
       "      <td>\\n</td>\n",
       "      <td>[Top left cell]</td>\n",
       "      <td>\\n</td>\n",
       "      <td>[Top center cell]</td>\n",
       "      <td>\\n</td>\n",
       "      <td>[Top right cell\\n]</td>\n",
       "    </tr>\n",
       "    <tr>\n",
       "      <th>2</th>\n",
       "      <td>\\n</td>\n",
       "      <td>[Middle left cell]</td>\n",
       "      <td>\\n</td>\n",
       "      <td>[Middle center cell]</td>\n",
       "      <td>\\n</td>\n",
       "      <td>[Middle right cell\\n]</td>\n",
       "    </tr>\n",
       "    <tr>\n",
       "      <th>3</th>\n",
       "      <td>\\n</td>\n",
       "      <td>[Bottom left cell]</td>\n",
       "      <td>\\n</td>\n",
       "      <td>[Bottom center cell]</td>\n",
       "      <td>\\n</td>\n",
       "      <td>[Bottom right cell\\n]</td>\n",
       "    </tr>\n",
       "  </tbody>\n",
       "</table>\n",
       "</div>"
      ],
      "text/plain": [
       "    0                   1   2                     3   4                      5\n",
       "0  \\n              [Left]  \\n              [Center]  \\n              [Right\\n]\n",
       "1  \\n     [Top left cell]  \\n     [Top center cell]  \\n     [Top right cell\\n]\n",
       "2  \\n  [Middle left cell]  \\n  [Middle center cell]  \\n  [Middle right cell\\n]\n",
       "3  \\n  [Bottom left cell]  \\n  [Bottom center cell]  \\n  [Bottom right cell\\n]"
      ]
     },
     "execution_count": 23,
     "metadata": {},
     "output_type": "execute_result"
    }
   ],
   "source": [
    "pd.DataFrame(rows)"
   ]
  },
  {
   "cell_type": "code",
   "execution_count": 24,
   "id": "9844820b-fc7b-4388-bc85-a8bfb4348644",
   "metadata": {},
   "outputs": [
    {
     "ename": "NameError",
     "evalue": "name 'columns' is not defined",
     "output_type": "error",
     "traceback": [
      "\u001b[1;31m---------------------------------------------------------------------------\u001b[0m",
      "\u001b[1;31mNameError\u001b[0m                                 Traceback (most recent call last)",
      "\u001b[1;32m~\\AppData\\Local\\Temp/ipykernel_10504/1439459673.py\u001b[0m in \u001b[0;36m<module>\u001b[1;34m\u001b[0m\n\u001b[1;32m----> 1\u001b[1;33m \u001b[0mcolumns\u001b[0m\u001b[1;33m\u001b[0m\u001b[1;33m\u001b[0m\u001b[0m\n\u001b[0m",
      "\u001b[1;31mNameError\u001b[0m: name 'columns' is not defined"
     ]
    }
   ],
   "source": [
    "columns"
   ]
  },
  {
   "cell_type": "code",
   "execution_count": null,
   "id": "6cb5358c-6d82-424a-9f46-5450e30c80ed",
   "metadata": {},
   "outputs": [],
   "source": []
  }
 ],
 "metadata": {
  "kernelspec": {
   "display_name": "Python 3 (ipykernel)",
   "language": "python",
   "name": "python3"
  },
  "language_info": {
   "codemirror_mode": {
    "name": "ipython",
    "version": 3
   },
   "file_extension": ".py",
   "mimetype": "text/x-python",
   "name": "python",
   "nbconvert_exporter": "python",
   "pygments_lexer": "ipython3",
   "version": "3.9.7"
  }
 },
 "nbformat": 4,
 "nbformat_minor": 5
}

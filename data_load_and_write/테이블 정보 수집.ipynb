{
 "cells": [
  {
   "cell_type": "code",
   "execution_count": 1,
   "id": "ee51fd3e-da22-4466-a13a-a8355c6930bb",
   "metadata": {},
   "outputs": [],
   "source": [
    "import pandas as pd"
   ]
  },
  {
   "cell_type": "code",
   "execution_count": 14,
   "id": "d9b60490-fbb7-4cfc-82ee-f091de9f0810",
   "metadata": {},
   "outputs": [],
   "source": [
    "cList1 = [\"서울강서\",\"서울정수\",\"분당\"]\n",
    "cList2 = [\"값1\",\"값2\",\"값3\"]"
   ]
  },
  {
   "cell_type": "code",
   "execution_count": 15,
   "id": "1747ad1e-9465-4618-bc41-68ff4eb37cab",
   "metadata": {},
   "outputs": [],
   "source": [
    "listDf = pd.DataFrame(zip(cList1, cList2), columns = [\"대상캠퍼스\",\"대상값\"])"
   ]
  },
  {
   "cell_type": "code",
   "execution_count": 16,
   "id": "31a2d889-0d62-4b8a-bd2e-407018cf78e6",
   "metadata": {},
   "outputs": [
    {
     "data": {
      "text/html": [
       "<div>\n",
       "<style scoped>\n",
       "    .dataframe tbody tr th:only-of-type {\n",
       "        vertical-align: middle;\n",
       "    }\n",
       "\n",
       "    .dataframe tbody tr th {\n",
       "        vertical-align: top;\n",
       "    }\n",
       "\n",
       "    .dataframe thead th {\n",
       "        text-align: right;\n",
       "    }\n",
       "</style>\n",
       "<table border=\"1\" class=\"dataframe\">\n",
       "  <thead>\n",
       "    <tr style=\"text-align: right;\">\n",
       "      <th></th>\n",
       "      <th>대상캠퍼스</th>\n",
       "      <th>대상값</th>\n",
       "    </tr>\n",
       "  </thead>\n",
       "  <tbody>\n",
       "    <tr>\n",
       "      <th>0</th>\n",
       "      <td>서울강서</td>\n",
       "      <td>값1</td>\n",
       "    </tr>\n",
       "    <tr>\n",
       "      <th>1</th>\n",
       "      <td>서울정수</td>\n",
       "      <td>값2</td>\n",
       "    </tr>\n",
       "    <tr>\n",
       "      <th>2</th>\n",
       "      <td>분당</td>\n",
       "      <td>값3</td>\n",
       "    </tr>\n",
       "  </tbody>\n",
       "</table>\n",
       "</div>"
      ],
      "text/plain": [
       "  대상캠퍼스 대상값\n",
       "0  서울강서  값1\n",
       "1  서울정수  값2\n",
       "2    분당  값3"
      ]
     },
     "execution_count": 16,
     "metadata": {},
     "output_type": "execute_result"
    }
   ],
   "source": [
    "listDf"
   ]
  },
  {
   "cell_type": "code",
   "execution_count": 48,
   "id": "d20d299a-62c8-453c-ba8a-c1efa7b95f7b",
   "metadata": {},
   "outputs": [],
   "source": [
    "rowList1 = [\"서울강서\",\"값1\"]\n",
    "rowList2 = [\"서울정수\",\"값2\"]\n",
    "rowList3 = [\"분당\",\"값3\"]"
   ]
  },
  {
   "cell_type": "code",
   "execution_count": 49,
   "id": "a5768679-bab6-4458-bbac-132594fa3af6",
   "metadata": {},
   "outputs": [],
   "source": [
    "pdList = []"
   ]
  },
  {
   "cell_type": "code",
   "execution_count": 50,
   "id": "d80b40b1-dc36-4aec-adc1-271c1e9117c8",
   "metadata": {},
   "outputs": [],
   "source": [
    "pdList.append(rowList1)\n",
    "pdList.append(rowList2)\n",
    "pdList.append(rowList3)"
   ]
  },
  {
   "cell_type": "code",
   "execution_count": 51,
   "id": "0e9225e5-9ae0-4443-80c2-6513c61461bb",
   "metadata": {},
   "outputs": [
    {
     "data": {
      "text/plain": [
       "[['서울강서', '값1'], ['서울정수', '값2'], ['분당', '값3']]"
      ]
     },
     "execution_count": 51,
     "metadata": {},
     "output_type": "execute_result"
    }
   ],
   "source": [
    "pdList"
   ]
  },
  {
   "cell_type": "code",
   "execution_count": 52,
   "id": "ff7ec3c7-fe9a-4b4b-88f0-1bcc1df30f37",
   "metadata": {},
   "outputs": [
    {
     "data": {
      "text/html": [
       "<div>\n",
       "<style scoped>\n",
       "    .dataframe tbody tr th:only-of-type {\n",
       "        vertical-align: middle;\n",
       "    }\n",
       "\n",
       "    .dataframe tbody tr th {\n",
       "        vertical-align: top;\n",
       "    }\n",
       "\n",
       "    .dataframe thead th {\n",
       "        text-align: right;\n",
       "    }\n",
       "</style>\n",
       "<table border=\"1\" class=\"dataframe\">\n",
       "  <thead>\n",
       "    <tr style=\"text-align: right;\">\n",
       "      <th></th>\n",
       "      <th>0</th>\n",
       "      <th>1</th>\n",
       "    </tr>\n",
       "  </thead>\n",
       "  <tbody>\n",
       "    <tr>\n",
       "      <th>0</th>\n",
       "      <td>서울강서</td>\n",
       "      <td>값1</td>\n",
       "    </tr>\n",
       "    <tr>\n",
       "      <th>1</th>\n",
       "      <td>서울정수</td>\n",
       "      <td>값2</td>\n",
       "    </tr>\n",
       "    <tr>\n",
       "      <th>2</th>\n",
       "      <td>분당</td>\n",
       "      <td>값3</td>\n",
       "    </tr>\n",
       "  </tbody>\n",
       "</table>\n",
       "</div>"
      ],
      "text/plain": [
       "      0   1\n",
       "0  서울강서  값1\n",
       "1  서울정수  값2\n",
       "2    분당  값3"
      ]
     },
     "execution_count": 52,
     "metadata": {},
     "output_type": "execute_result"
    }
   ],
   "source": [
    "pd.DataFrame(pdList)"
   ]
  },
  {
   "cell_type": "code",
   "execution_count": 1,
   "id": "3f5ab6a6-b908-44f5-bbe4-faf9ffed3a84",
   "metadata": {},
   "outputs": [],
   "source": [
    "import pandas as pd\n",
    "import requests\n",
    "import bs4"
   ]
  },
  {
   "cell_type": "code",
   "execution_count": 2,
   "id": "3ad519cf-dc69-4f79-97fd-70ca54bd39fc",
   "metadata": {},
   "outputs": [],
   "source": [
    "#url 헷갈리지 않게 지정\n",
    "targetUrl = \"https://en.wikipedia.org/wiki/Help:Table\""
   ]
  },
  {
   "cell_type": "code",
   "execution_count": 3,
   "id": "abb1c5af-e7b8-44f8-b778-114edd2b2fe3",
   "metadata": {},
   "outputs": [],
   "source": [
    "resp = requests.get(targetUrl)"
   ]
  },
  {
   "cell_type": "code",
   "execution_count": 4,
   "id": "dd7da95d-e9e4-40d3-8a69-903faa017315",
   "metadata": {},
   "outputs": [],
   "source": [
    "resp.encoding='utf-8'"
   ]
  },
  {
   "cell_type": "code",
   "execution_count": 5,
   "id": "2d0f3c61-8ae9-4e18-af5b-fe05cc4b0e72",
   "metadata": {},
   "outputs": [],
   "source": [
    "html = resp.text"
   ]
  },
  {
   "cell_type": "code",
   "execution_count": 6,
   "id": "66381875-8e91-483d-b59f-36f3cfa00001",
   "metadata": {},
   "outputs": [],
   "source": [
    "bs = bs4.BeautifulSoup(html,'html.parser')"
   ]
  },
  {
   "cell_type": "code",
   "execution_count": 7,
   "id": "61688840-2899-4786-8120-af8def1115b6",
   "metadata": {},
   "outputs": [],
   "source": [
    "tabletag = bs.find(\"table\",{\"class\":\"wikitable\", \"style\":\"height:14em\"})"
   ]
  },
  {
   "cell_type": "code",
   "execution_count": 8,
   "id": "f2bb180c-62f5-4869-93c2-9efdd5403289",
   "metadata": {},
   "outputs": [],
   "source": [
    "rows = tabletag.findAll(\"tr\")"
   ]
  },
  {
   "cell_type": "code",
   "execution_count": 9,
   "id": "4872db42-1eed-416c-9482-d2ac42f72726",
   "metadata": {},
   "outputs": [
    {
     "data": {
      "text/plain": [
       "<tr>\n",
       "<th>Left</th>\n",
       "<th>Center</th>\n",
       "<th>Right\n",
       "</th></tr>"
      ]
     },
     "execution_count": 9,
     "metadata": {},
     "output_type": "execute_result"
    }
   ],
   "source": [
    "rows[0]"
   ]
  },
  {
   "cell_type": "code",
   "execution_count": 10,
   "id": "425481db-264e-46ae-8fb0-d1bfab7f617e",
   "metadata": {},
   "outputs": [
    {
     "data": {
      "text/plain": [
       "[<th>Left</th>,\n",
       " <th>Center</th>,\n",
       " <th>Right\n",
       " </th>]"
      ]
     },
     "execution_count": 10,
     "metadata": {},
     "output_type": "execute_result"
    }
   ],
   "source": [
    "rows[0].findAll([\"th\",\"td\"])"
   ]
  },
  {
   "cell_type": "code",
   "execution_count": 14,
   "id": "145e293d-b85b-4549-a100-c655a8edc40e",
   "metadata": {},
   "outputs": [
    {
     "ename": "NameError",
     "evalue": "name 'columns' is not defined",
     "output_type": "error",
     "traceback": [
      "\u001b[1;31m---------------------------------------------------------------------------\u001b[0m",
      "\u001b[1;31mNameError\u001b[0m                                 Traceback (most recent call last)",
      "\u001b[1;32m~\\AppData\\Local\\Temp/ipykernel_5584/3248167585.py\u001b[0m in \u001b[0;36m<module>\u001b[1;34m\u001b[0m\n\u001b[1;32m----> 1\u001b[1;33m \u001b[0mcolumns\u001b[0m\u001b[1;33m[\u001b[0m\u001b[0mi\u001b[0m\u001b[1;33m]\u001b[0m\u001b[1;33m.\u001b[0m\u001b[0mtext\u001b[0m\u001b[1;33m\u001b[0m\u001b[1;33m\u001b[0m\u001b[0m\n\u001b[0m",
      "\u001b[1;31mNameError\u001b[0m: name 'columns' is not defined"
     ]
    }
   ],
   "source": [
    "columns[i].text"
   ]
  },
  {
   "cell_type": "code",
   "execution_count": null,
   "id": "3ed2b785-ad72-4102-8075-094683392841",
   "metadata": {},
   "outputs": [],
   "source": [
    "# columns"
   ]
  },
  {
   "cell_type": "code",
   "execution_count": 12,
   "id": "bc85a402-6cf7-4df1-aae2-5bf1cca4b2c4",
   "metadata": {},
   "outputs": [],
   "source": [
    "#전략\n",
    "#전체를 담을 리스트\n",
    "rowList = []\n",
    "\n",
    "#컬럼을 담을 리스트\n",
    "columnList = []\n",
    "\n",
    "nameList = []"
   ]
  },
  {
   "cell_type": "code",
   "execution_count": 13,
   "id": "e960e339-032d-4cbb-9738-b25b4740a2a6",
   "metadata": {},
   "outputs": [
    {
     "ename": "NameError",
     "evalue": "name 'columns' is not defined",
     "output_type": "error",
     "traceback": [
      "\u001b[1;31m---------------------------------------------------------------------------\u001b[0m",
      "\u001b[1;31mNameError\u001b[0m                                 Traceback (most recent call last)",
      "\u001b[1;32m~\\AppData\\Local\\Temp/ipykernel_5584/1721022946.py\u001b[0m in \u001b[0;36m<module>\u001b[1;34m\u001b[0m\n\u001b[1;32m----> 1\u001b[1;33m \u001b[0mcolumnLen\u001b[0m \u001b[1;33m=\u001b[0m \u001b[0mlen\u001b[0m\u001b[1;33m(\u001b[0m\u001b[0mcolumns\u001b[0m\u001b[1;33m)\u001b[0m\u001b[1;33m\u001b[0m\u001b[1;33m\u001b[0m\u001b[0m\n\u001b[0m",
      "\u001b[1;31mNameError\u001b[0m: name 'columns' is not defined"
     ]
    }
   ],
   "source": [
    "columnLen = len(columns)"
   ]
  },
  {
   "cell_type": "code",
   "execution_count": 15,
   "id": "5f2cc70a-5b81-4820-a2ab-f2477dfe0949",
   "metadata": {},
   "outputs": [],
   "source": [
    "for j in range(0, len(rows)):\n",
    "    columns = rows[j].findAll([\"th\",\"td\"])\n",
    "    for i in range(0, len(columns)):\n",
    "       \n",
    "        eachColumnValue = columns[i].text\n",
    "        columnList.append(eachColumnValue)\n",
    "        rowList.append(columnList)\n",
    "        columnList = []"
   ]
  },
  {
   "cell_type": "code",
   "execution_count": 16,
   "id": "4e4c7219-54c8-4777-92f1-01ceb557f85b",
   "metadata": {},
   "outputs": [],
   "source": [
    "pdRowList=pd.DataFrame(rowList)"
   ]
  },
  {
   "cell_type": "code",
   "execution_count": 17,
   "id": "d771cbab-1f3f-475b-af4d-a1543924550e",
   "metadata": {},
   "outputs": [
    {
     "data": {
      "text/plain": [
       "['Left']"
      ]
     },
     "execution_count": 17,
     "metadata": {},
     "output_type": "execute_result"
    }
   ],
   "source": [
    "rowList[0]"
   ]
  },
  {
   "cell_type": "code",
   "execution_count": 18,
   "id": "d1336ee9-9c26-49c2-8c0a-22417d6ea22f",
   "metadata": {},
   "outputs": [
    {
     "data": {
      "text/html": [
       "<div>\n",
       "<style scoped>\n",
       "    .dataframe tbody tr th:only-of-type {\n",
       "        vertical-align: middle;\n",
       "    }\n",
       "\n",
       "    .dataframe tbody tr th {\n",
       "        vertical-align: top;\n",
       "    }\n",
       "\n",
       "    .dataframe thead th {\n",
       "        text-align: right;\n",
       "    }\n",
       "</style>\n",
       "<table border=\"1\" class=\"dataframe\">\n",
       "  <thead>\n",
       "    <tr style=\"text-align: right;\">\n",
       "      <th></th>\n",
       "      <th>0</th>\n",
       "    </tr>\n",
       "  </thead>\n",
       "  <tbody>\n",
       "    <tr>\n",
       "      <th>0</th>\n",
       "      <td>Left</td>\n",
       "    </tr>\n",
       "    <tr>\n",
       "      <th>1</th>\n",
       "      <td>Center</td>\n",
       "    </tr>\n",
       "    <tr>\n",
       "      <th>2</th>\n",
       "      <td>Right\\n</td>\n",
       "    </tr>\n",
       "    <tr>\n",
       "      <th>3</th>\n",
       "      <td>Top left cell</td>\n",
       "    </tr>\n",
       "    <tr>\n",
       "      <th>4</th>\n",
       "      <td>Top center cell</td>\n",
       "    </tr>\n",
       "    <tr>\n",
       "      <th>5</th>\n",
       "      <td>Top right cell\\n</td>\n",
       "    </tr>\n",
       "    <tr>\n",
       "      <th>6</th>\n",
       "      <td>Middle left cell</td>\n",
       "    </tr>\n",
       "    <tr>\n",
       "      <th>7</th>\n",
       "      <td>Middle center cell</td>\n",
       "    </tr>\n",
       "    <tr>\n",
       "      <th>8</th>\n",
       "      <td>Middle right cell\\n</td>\n",
       "    </tr>\n",
       "    <tr>\n",
       "      <th>9</th>\n",
       "      <td>Bottom left cell</td>\n",
       "    </tr>\n",
       "    <tr>\n",
       "      <th>10</th>\n",
       "      <td>Bottom center cell</td>\n",
       "    </tr>\n",
       "    <tr>\n",
       "      <th>11</th>\n",
       "      <td>Bottom right cell\\n</td>\n",
       "    </tr>\n",
       "  </tbody>\n",
       "</table>\n",
       "</div>"
      ],
      "text/plain": [
       "                      0\n",
       "0                  Left\n",
       "1                Center\n",
       "2               Right\\n\n",
       "3         Top left cell\n",
       "4       Top center cell\n",
       "5      Top right cell\\n\n",
       "6      Middle left cell\n",
       "7    Middle center cell\n",
       "8   Middle right cell\\n\n",
       "9      Bottom left cell\n",
       "10   Bottom center cell\n",
       "11  Bottom right cell\\n"
      ]
     },
     "execution_count": 18,
     "metadata": {},
     "output_type": "execute_result"
    }
   ],
   "source": [
    "pdRowList"
   ]
  },
  {
   "cell_type": "code",
   "execution_count": 36,
   "id": "723f6342-ca9c-447e-be39-184e4f890bfd",
   "metadata": {},
   "outputs": [
    {
     "data": {
      "text/plain": [
       "[<td>Bottom left cell</td>,\n",
       " <td>Bottom center cell</td>,\n",
       " <td>Bottom right cell\n",
       " </td>]"
      ]
     },
     "execution_count": 36,
     "metadata": {},
     "output_type": "execute_result"
    }
   ],
   "source": [
    "columns"
   ]
  },
  {
   "cell_type": "code",
   "execution_count": 37,
   "id": "c8386d66-e234-4aa3-8050-4fc2bb4cb49f",
   "metadata": {},
   "outputs": [
    {
     "data": {
      "text/plain": [
       "'Bottom right cell'"
      ]
     },
     "execution_count": 37,
     "metadata": {},
     "output_type": "execute_result"
    }
   ],
   "source": [
    "columnValue"
   ]
  },
  {
   "cell_type": "code",
   "execution_count": 38,
   "id": "eef4ab0b-cc3d-440d-a61b-ea65e3a118b6",
   "metadata": {},
   "outputs": [
    {
     "data": {
      "text/plain": [
       "['Left',\n",
       " 'Center',\n",
       " 'Right',\n",
       " 'Left',\n",
       " 'Center',\n",
       " 'Right',\n",
       " 'Left',\n",
       " 'Center',\n",
       " 'Right',\n",
       " 'Left',\n",
       " 'Center',\n",
       " 'Right']"
      ]
     },
     "execution_count": 38,
     "metadata": {},
     "output_type": "execute_result"
    }
   ],
   "source": [
    "nameList"
   ]
  },
  {
   "cell_type": "code",
   "execution_count": 39,
   "id": "2f2acde8-76b3-48c9-aef8-23de4fcca243",
   "metadata": {},
   "outputs": [],
   "source": [
    "for j in range(0, len(rows)):\n",
    "    columns = rows[j].findAll([\"th\",\"td\"])\n",
    "    columnLen = len(columns)\n",
    "\n",
    "    for i in range(0, columnLen):\n",
    "        if columns[i].name == \"th\":\n",
    "            columnValue = columns[i].text.replace(\"\\n\",\"\")\n",
    "            nameList.append(columnValue)\n",
    "        \n",
    "            continue;\n",
    "        else:\n",
    "            columnValue = columns[i].text.replace(\"\\n\",\"\")\n",
    "            columnList.append(columnValue)\n",
    "    rowList.append(columnList)\n",
    "    columnList = []"
   ]
  },
  {
   "cell_type": "code",
   "execution_count": 40,
   "id": "17aaf9fb-9ca4-48f8-bfb1-306c96173eee",
   "metadata": {},
   "outputs": [
    {
     "ename": "ValueError",
     "evalue": "15 columns passed, passed data had 3 columns",
     "output_type": "error",
     "traceback": [
      "\u001b[1;31m---------------------------------------------------------------------------\u001b[0m",
      "\u001b[1;31mAssertionError\u001b[0m                            Traceback (most recent call last)",
      "\u001b[1;32m~\\Anaconda3\\lib\\site-packages\\pandas\\core\\internals\\construction.py\u001b[0m in \u001b[0;36m_finalize_columns_and_data\u001b[1;34m(content, columns, dtype)\u001b[0m\n\u001b[0;32m    905\u001b[0m     \u001b[1;32mtry\u001b[0m\u001b[1;33m:\u001b[0m\u001b[1;33m\u001b[0m\u001b[1;33m\u001b[0m\u001b[0m\n\u001b[1;32m--> 906\u001b[1;33m         \u001b[0mcolumns\u001b[0m \u001b[1;33m=\u001b[0m \u001b[0m_validate_or_indexify_columns\u001b[0m\u001b[1;33m(\u001b[0m\u001b[0mcontents\u001b[0m\u001b[1;33m,\u001b[0m \u001b[0mcolumns\u001b[0m\u001b[1;33m)\u001b[0m\u001b[1;33m\u001b[0m\u001b[1;33m\u001b[0m\u001b[0m\n\u001b[0m\u001b[0;32m    907\u001b[0m     \u001b[1;32mexcept\u001b[0m \u001b[0mAssertionError\u001b[0m \u001b[1;32mas\u001b[0m \u001b[0merr\u001b[0m\u001b[1;33m:\u001b[0m\u001b[1;33m\u001b[0m\u001b[1;33m\u001b[0m\u001b[0m\n",
      "\u001b[1;32m~\\Anaconda3\\lib\\site-packages\\pandas\\core\\internals\\construction.py\u001b[0m in \u001b[0;36m_validate_or_indexify_columns\u001b[1;34m(content, columns)\u001b[0m\n\u001b[0;32m    953\u001b[0m             \u001b[1;31m# caller's responsibility to check for this...\u001b[0m\u001b[1;33m\u001b[0m\u001b[1;33m\u001b[0m\u001b[0m\n\u001b[1;32m--> 954\u001b[1;33m             raise AssertionError(\n\u001b[0m\u001b[0;32m    955\u001b[0m                 \u001b[1;34mf\"{len(columns)} columns passed, passed data had \"\u001b[0m\u001b[1;33m\u001b[0m\u001b[1;33m\u001b[0m\u001b[0m\n",
      "\u001b[1;31mAssertionError\u001b[0m: 15 columns passed, passed data had 3 columns",
      "\nThe above exception was the direct cause of the following exception:\n",
      "\u001b[1;31mValueError\u001b[0m                                Traceback (most recent call last)",
      "\u001b[1;32m~\\AppData\\Local\\Temp/ipykernel_7140/375588138.py\u001b[0m in \u001b[0;36m<module>\u001b[1;34m\u001b[0m\n\u001b[1;32m----> 1\u001b[1;33m \u001b[0mpd\u001b[0m\u001b[1;33m.\u001b[0m\u001b[0mDataFrame\u001b[0m\u001b[1;33m(\u001b[0m\u001b[0mrowList\u001b[0m\u001b[1;33m[\u001b[0m\u001b[1;36m1\u001b[0m\u001b[1;33m:\u001b[0m\u001b[1;36m4\u001b[0m\u001b[1;33m]\u001b[0m\u001b[1;33m,\u001b[0m \u001b[0mcolumns\u001b[0m \u001b[1;33m=\u001b[0m \u001b[0mnameList\u001b[0m\u001b[1;33m)\u001b[0m\u001b[1;33m\u001b[0m\u001b[1;33m\u001b[0m\u001b[0m\n\u001b[0m",
      "\u001b[1;32m~\\Anaconda3\\lib\\site-packages\\pandas\\core\\frame.py\u001b[0m in \u001b[0;36m__init__\u001b[1;34m(self, data, index, columns, dtype, copy)\u001b[0m\n\u001b[0;32m    692\u001b[0m                         \u001b[1;31m# ndarray], Index, Series], Sequence[Any]]\"\u001b[0m\u001b[1;33m\u001b[0m\u001b[1;33m\u001b[0m\u001b[0m\n\u001b[0;32m    693\u001b[0m                         \u001b[0mcolumns\u001b[0m \u001b[1;33m=\u001b[0m \u001b[0mensure_index\u001b[0m\u001b[1;33m(\u001b[0m\u001b[0mcolumns\u001b[0m\u001b[1;33m)\u001b[0m  \u001b[1;31m# type: ignore[arg-type]\u001b[0m\u001b[1;33m\u001b[0m\u001b[1;33m\u001b[0m\u001b[0m\n\u001b[1;32m--> 694\u001b[1;33m                     arrays, columns, index = nested_data_to_arrays(\n\u001b[0m\u001b[0;32m    695\u001b[0m                         \u001b[1;31m# error: Argument 3 to \"nested_data_to_arrays\" has incompatible\u001b[0m\u001b[1;33m\u001b[0m\u001b[1;33m\u001b[0m\u001b[0m\n\u001b[0;32m    696\u001b[0m                         \u001b[1;31m# type \"Optional[Collection[Any]]\"; expected \"Optional[Index]\"\u001b[0m\u001b[1;33m\u001b[0m\u001b[1;33m\u001b[0m\u001b[0m\n",
      "\u001b[1;32m~\\Anaconda3\\lib\\site-packages\\pandas\\core\\internals\\construction.py\u001b[0m in \u001b[0;36mnested_data_to_arrays\u001b[1;34m(data, columns, index, dtype)\u001b[0m\n\u001b[0;32m    481\u001b[0m         \u001b[0mcolumns\u001b[0m \u001b[1;33m=\u001b[0m \u001b[0mensure_index\u001b[0m\u001b[1;33m(\u001b[0m\u001b[0mdata\u001b[0m\u001b[1;33m[\u001b[0m\u001b[1;36m0\u001b[0m\u001b[1;33m]\u001b[0m\u001b[1;33m.\u001b[0m\u001b[0m_fields\u001b[0m\u001b[1;33m)\u001b[0m\u001b[1;33m\u001b[0m\u001b[1;33m\u001b[0m\u001b[0m\n\u001b[0;32m    482\u001b[0m \u001b[1;33m\u001b[0m\u001b[0m\n\u001b[1;32m--> 483\u001b[1;33m     \u001b[0marrays\u001b[0m\u001b[1;33m,\u001b[0m \u001b[0mcolumns\u001b[0m \u001b[1;33m=\u001b[0m \u001b[0mto_arrays\u001b[0m\u001b[1;33m(\u001b[0m\u001b[0mdata\u001b[0m\u001b[1;33m,\u001b[0m \u001b[0mcolumns\u001b[0m\u001b[1;33m,\u001b[0m \u001b[0mdtype\u001b[0m\u001b[1;33m=\u001b[0m\u001b[0mdtype\u001b[0m\u001b[1;33m)\u001b[0m\u001b[1;33m\u001b[0m\u001b[1;33m\u001b[0m\u001b[0m\n\u001b[0m\u001b[0;32m    484\u001b[0m     \u001b[0mcolumns\u001b[0m \u001b[1;33m=\u001b[0m \u001b[0mensure_index\u001b[0m\u001b[1;33m(\u001b[0m\u001b[0mcolumns\u001b[0m\u001b[1;33m)\u001b[0m\u001b[1;33m\u001b[0m\u001b[1;33m\u001b[0m\u001b[0m\n\u001b[0;32m    485\u001b[0m \u001b[1;33m\u001b[0m\u001b[0m\n",
      "\u001b[1;32m~\\Anaconda3\\lib\\site-packages\\pandas\\core\\internals\\construction.py\u001b[0m in \u001b[0;36mto_arrays\u001b[1;34m(data, columns, dtype)\u001b[0m\n\u001b[0;32m    805\u001b[0m         \u001b[0marr\u001b[0m \u001b[1;33m=\u001b[0m \u001b[0m_list_to_arrays\u001b[0m\u001b[1;33m(\u001b[0m\u001b[0mdata\u001b[0m\u001b[1;33m)\u001b[0m\u001b[1;33m\u001b[0m\u001b[1;33m\u001b[0m\u001b[0m\n\u001b[0;32m    806\u001b[0m \u001b[1;33m\u001b[0m\u001b[0m\n\u001b[1;32m--> 807\u001b[1;33m     \u001b[0mcontent\u001b[0m\u001b[1;33m,\u001b[0m \u001b[0mcolumns\u001b[0m \u001b[1;33m=\u001b[0m \u001b[0m_finalize_columns_and_data\u001b[0m\u001b[1;33m(\u001b[0m\u001b[0marr\u001b[0m\u001b[1;33m,\u001b[0m \u001b[0mcolumns\u001b[0m\u001b[1;33m,\u001b[0m \u001b[0mdtype\u001b[0m\u001b[1;33m)\u001b[0m\u001b[1;33m\u001b[0m\u001b[1;33m\u001b[0m\u001b[0m\n\u001b[0m\u001b[0;32m    808\u001b[0m     \u001b[1;32mreturn\u001b[0m \u001b[0mcontent\u001b[0m\u001b[1;33m,\u001b[0m \u001b[0mcolumns\u001b[0m\u001b[1;33m\u001b[0m\u001b[1;33m\u001b[0m\u001b[0m\n\u001b[0;32m    809\u001b[0m \u001b[1;33m\u001b[0m\u001b[0m\n",
      "\u001b[1;32m~\\Anaconda3\\lib\\site-packages\\pandas\\core\\internals\\construction.py\u001b[0m in \u001b[0;36m_finalize_columns_and_data\u001b[1;34m(content, columns, dtype)\u001b[0m\n\u001b[0;32m    907\u001b[0m     \u001b[1;32mexcept\u001b[0m \u001b[0mAssertionError\u001b[0m \u001b[1;32mas\u001b[0m \u001b[0merr\u001b[0m\u001b[1;33m:\u001b[0m\u001b[1;33m\u001b[0m\u001b[1;33m\u001b[0m\u001b[0m\n\u001b[0;32m    908\u001b[0m         \u001b[1;31m# GH#26429 do not raise user-facing AssertionError\u001b[0m\u001b[1;33m\u001b[0m\u001b[1;33m\u001b[0m\u001b[0m\n\u001b[1;32m--> 909\u001b[1;33m         \u001b[1;32mraise\u001b[0m \u001b[0mValueError\u001b[0m\u001b[1;33m(\u001b[0m\u001b[0merr\u001b[0m\u001b[1;33m)\u001b[0m \u001b[1;32mfrom\u001b[0m \u001b[0merr\u001b[0m\u001b[1;33m\u001b[0m\u001b[1;33m\u001b[0m\u001b[0m\n\u001b[0m\u001b[0;32m    910\u001b[0m \u001b[1;33m\u001b[0m\u001b[0m\n\u001b[0;32m    911\u001b[0m     \u001b[1;32mif\u001b[0m \u001b[0mlen\u001b[0m\u001b[1;33m(\u001b[0m\u001b[0mcontents\u001b[0m\u001b[1;33m)\u001b[0m \u001b[1;32mand\u001b[0m \u001b[0mcontents\u001b[0m\u001b[1;33m[\u001b[0m\u001b[1;36m0\u001b[0m\u001b[1;33m]\u001b[0m\u001b[1;33m.\u001b[0m\u001b[0mdtype\u001b[0m \u001b[1;33m==\u001b[0m \u001b[0mnp\u001b[0m\u001b[1;33m.\u001b[0m\u001b[0mobject_\u001b[0m\u001b[1;33m:\u001b[0m\u001b[1;33m\u001b[0m\u001b[1;33m\u001b[0m\u001b[0m\n",
      "\u001b[1;31mValueError\u001b[0m: 15 columns passed, passed data had 3 columns"
     ]
    }
   ],
   "source": [
    "pd.DataFrame(rowList[1:4], columns = nameList)"
   ]
  },
  {
   "cell_type": "code",
   "execution_count": 34,
   "id": "9562b8b7-bf44-4bff-80bc-d32430a62e2b",
   "metadata": {},
   "outputs": [
    {
     "data": {
      "text/plain": [
       "[['Left', 'Center', 'Right'],\n",
       " ['Top left cell', 'Top center cell', 'Top right cell'],\n",
       " ['Middle left cell', 'Middle center cell', 'Middle right cell'],\n",
       " ['Bottom left cell', 'Bottom center cell', 'Bottom right cell']]"
      ]
     },
     "execution_count": 34,
     "metadata": {},
     "output_type": "execute_result"
    }
   ],
   "source": [
    "rowList"
   ]
  },
  {
   "cell_type": "code",
   "execution_count": null,
   "id": "d4ebe29e-5472-4ae8-97db-094e9304ff18",
   "metadata": {},
   "outputs": [],
   "source": []
  }
 ],
 "metadata": {
  "kernelspec": {
   "display_name": "Python 3 (ipykernel)",
   "language": "python",
   "name": "python3"
  },
  "language_info": {
   "codemirror_mode": {
    "name": "ipython",
    "version": 3
   },
   "file_extension": ".py",
   "mimetype": "text/x-python",
   "name": "python",
   "nbconvert_exporter": "python",
   "pygments_lexer": "ipython3",
   "version": "3.9.7"
  }
 },
 "nbformat": 4,
 "nbformat_minor": 5
}

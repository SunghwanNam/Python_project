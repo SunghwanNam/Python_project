{
 "cells": [
  {
   "cell_type": "code",
   "execution_count": 18,
   "id": "8435792b-3434-42bd-bafa-53dfd3f3aaeb",
   "metadata": {},
   "outputs": [],
   "source": [
    "import pandas as pd\n",
    "import requests\n",
    "import bs4\n",
    "\n",
    "targetUrl = \"https://sparkkorea.com/%ED%80%B4%EC%A6%88/\" #수집하려는 주소\n",
    "\n",
    "resp = requests.get(targetUrl)\n",
    "\n",
    "htmlnatureCode  = resp.text  #html 전체를 변수로 지정.\n",
    "\n",
    "bs = bs4.BeautifulSoup(htmlnatureCode, \"html.parser\") #라이브러리를 활용해 변수 bs에 담는다.\n",
    "\n",
    "targetDivTag = bs.find(name=\"div\",\n",
    "                       attrs = {\"class\":\"class_spark_quiz\"}) # div태그만 찾아서 변수로 지정\n",
    "\n",
    "aTag = targetDivTag.findAll(name=\"a\")\n",
    "\n",
    "aTagLen = len(aTag)                           #길이를 변수로 지정\n",
    "\n",
    "nameList = []                                 #빈 리스트를 지정함\n",
    "linkList = []\n",
    "\n",
    "for i in range(0,aTagLen):                    #리스트를 nameList와 linkList에 담기 위한 for문\n",
    "    tagTextName = aTag[i].text\n",
    "    tagLinkInfo = aTag[i].attrs[\"href\"]\n",
    "    tagNameinfo = aTag[i].name\n",
    "    nameList.append(tagTextName)\n",
    "    linkList.append(tagLinkInfo)\n",
    "\n",
    "nameList                                      #정상적으로 담겼는지 확인 1\n",
    "\n",
    "linkList                                      #정상적으로 담겼는지 확인 2\n",
    "\n",
    "quizDf = pd.DataFrame(zip(nameList,linkList), columns = [\"퀴즈이름\",\"링크\"])"
   ]
  },
  {
   "cell_type": "code",
   "execution_count": 28,
   "id": "11ad8269-6202-421c-9b89-7b1f480e7764",
   "metadata": {},
   "outputs": [
    {
     "data": {
      "text/html": [
       "<div>\n",
       "<style scoped>\n",
       "    .dataframe tbody tr th:only-of-type {\n",
       "        vertical-align: middle;\n",
       "    }\n",
       "\n",
       "    .dataframe tbody tr th {\n",
       "        vertical-align: top;\n",
       "    }\n",
       "\n",
       "    .dataframe thead th {\n",
       "        text-align: right;\n",
       "    }\n",
       "</style>\n",
       "<table border=\"1\" class=\"dataframe\">\n",
       "  <thead>\n",
       "    <tr style=\"text-align: right;\">\n",
       "      <th></th>\n",
       "      <th>퀴즈이름</th>\n",
       "      <th>링크</th>\n",
       "    </tr>\n",
       "  </thead>\n",
       "  <tbody>\n",
       "    <tr>\n",
       "      <th>0</th>\n",
       "      <td>6/13 Spark 심화과정</td>\n",
       "      <td>https://forms.gle/Fw49w9GhWQChDcZm7</td>\n",
       "    </tr>\n",
       "    <tr>\n",
       "      <th>1</th>\n",
       "      <td>6/13 Spark 기본과정</td>\n",
       "      <td>https://forms.gle/G4TcXm3fKuHLHA6D6</td>\n",
       "    </tr>\n",
       "    <tr>\n",
       "      <th>2</th>\n",
       "      <td>6/18 Spark [MAP_FILTER]</td>\n",
       "      <td>https://forms.gle/M8gr1kC2ubA3UDVp8</td>\n",
       "    </tr>\n",
       "    <tr>\n",
       "      <th>3</th>\n",
       "      <td>6/18 Spark GroupBy 심화</td>\n",
       "      <td>https://forms.gle/h8w5mZ4MNaPLCPbi6</td>\n",
       "    </tr>\n",
       "    <tr>\n",
       "      <th>4</th>\n",
       "      <td>6/25 Spark RDD 실전 분석</td>\n",
       "      <td>https://forms.gle/q5yL6QHfueDLM5w27</td>\n",
       "    </tr>\n",
       "    <tr>\n",
       "      <th>5</th>\n",
       "      <td>6/27 Spark RDD 실전 분석2</td>\n",
       "      <td>https://forms.gle/Gxb4y6LfVYiaLu4M7</td>\n",
       "    </tr>\n",
       "  </tbody>\n",
       "</table>\n",
       "</div>"
      ],
      "text/plain": [
       "                        퀴즈이름                                   링크\n",
       "0           6/13 Spark 심화과정   https://forms.gle/Fw49w9GhWQChDcZm7\n",
       "1           6/13 Spark 기본과정   https://forms.gle/G4TcXm3fKuHLHA6D6\n",
       "2   6/18 Spark [MAP_FILTER]   https://forms.gle/M8gr1kC2ubA3UDVp8\n",
       "3     6/18 Spark GroupBy 심화   https://forms.gle/h8w5mZ4MNaPLCPbi6\n",
       "4      6/25 Spark RDD 실전 분석   https://forms.gle/q5yL6QHfueDLM5w27\n",
       "5     6/27 Spark RDD 실전 분석2   https://forms.gle/Gxb4y6LfVYiaLu4M7"
      ]
     },
     "execution_count": 28,
     "metadata": {},
     "output_type": "execute_result"
    }
   ],
   "source": [
    "quizDf"
   ]
  },
  {
   "cell_type": "code",
   "execution_count": 30,
   "id": "022bcde2-ff89-4cb5-a2ca-7cfbc604dc4e",
   "metadata": {},
   "outputs": [],
   "source": [
    "quizDf.to_csv(\"./practice2.csv\",\n",
    "                 index=False)"
   ]
  },
  {
   "cell_type": "code",
   "execution_count": null,
   "id": "b3a88b24-0495-4dc0-9c64-a698d34988d3",
   "metadata": {},
   "outputs": [],
   "source": []
  },
  {
   "cell_type": "code",
   "execution_count": null,
   "id": "77d4ba71-f5ab-42f3-b042-7a27ee9b6e06",
   "metadata": {},
   "outputs": [],
   "source": []
  }
 ],
 "metadata": {
  "kernelspec": {
   "display_name": "Python 3 (ipykernel)",
   "language": "python",
   "name": "python3"
  },
  "language_info": {
   "codemirror_mode": {
    "name": "ipython",
    "version": 3
   },
   "file_extension": ".py",
   "mimetype": "text/x-python",
   "name": "python",
   "nbconvert_exporter": "python",
   "pygments_lexer": "ipython3",
   "version": "3.9.7"
  }
 },
 "nbformat": 4,
 "nbformat_minor": 5
}

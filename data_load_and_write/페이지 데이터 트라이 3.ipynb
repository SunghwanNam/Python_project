{
 "cells": [
  {
   "cell_type": "code",
   "execution_count": 53,
   "id": "c9b47a6b-a535-4e5d-b689-3a02bc52026f",
   "metadata": {},
   "outputs": [],
   "source": [
    "import pandas as pd\n",
    "import requests\n",
    "import bs4\n",
    "\n",
    "targetUrl = \"https://www.lge.co.kr/store\" #수집하려는 주소\n",
    "\n",
    "resp = requests.get(targetUrl)"
   ]
  },
  {
   "cell_type": "code",
   "execution_count": 54,
   "id": "354c56f7-a2bc-4ad9-9b34-4c6b2c1394cf",
   "metadata": {},
   "outputs": [],
   "source": [
    "htmlnatureCode  = resp.text  #html 전체를 변수로 지정.\n",
    "\n",
    "bs = bs4.BeautifulSoup(htmlnatureCode, \"html.parser\") #라이브러리를 활용해 변수 bs에 담는다."
   ]
  },
  {
   "cell_type": "code",
   "execution_count": 55,
   "id": "83fa75f5-8a3f-4990-8a39-a8c1f17c49fa",
   "metadata": {},
   "outputs": [],
   "source": [
    "targetDivTag = bs.find(name=\"div\", attrs = {\"class\":\"category-list\"}) # div태그만 찾아서 변수로 지정"
   ]
  },
  {
   "cell_type": "code",
   "execution_count": 56,
   "id": "35fc7bf2-4321-4307-92c3-d55a0dc33778",
   "metadata": {},
   "outputs": [],
   "source": [
    "ulTag = targetDivTag.find(name=\"ul\") #ul태그만 찾아서 변수 지정."
   ]
  },
  {
   "cell_type": "code",
   "execution_count": 57,
   "id": "6af22658-b805-48bd-a24d-8e012bad6f84",
   "metadata": {
    "collapsed": true,
    "jupyter": {
     "outputs_hidden": true
    },
    "tags": []
   },
   "outputs": [
    {
     "data": {
      "text/plain": [
       "<ul class=\"ui_sub_category\">\n",
       "<li><a class=\"slide-box\" data-contents=\"TV/AV\" href=\"/tvs\"><i><img alt=\"TV\" src=\"/kr/images/gnb/store/CT50000025.svg\"/></i><span class=\"txt\">TV</span></a></li>\n",
       "<li><a class=\"slide-box\" data-contents=\"TV/AV\" href=\"/projectors\"><i><img alt=\"프로젝터\" src=\"/kr/images/gnb/store/CT50000032.svg\"/></i><span class=\"txt\">프로젝터</span></a></li>\n",
       "<li><a class=\"slide-box\" data-contents=\"TV/AV\" href=\"/home-audio\"><i><img alt=\"AV\" src=\"/kr/images/gnb/store/CT50000036.svg\"/></i><span class=\"txt\">AV</span></a></li>\n",
       "<li><a class=\"slide-box\" data-contents=\"TV/AV\" href=\"/displays\"><i><img alt=\"상업용 디스플레이\" src=\"/kr/images/gnb/store/CT50077000.svg\"/></i><span class=\"txt\">상업용 디스플레이</span></a></li>\n",
       "<li><a class=\"slide-box\" data-contents=\"TV/AV\" href=\"/care-accessories/tv?main=Y\"><i><img alt=\"케어용품/소모품\" src=\"/kr/images/gnb/store/CT50000024_CT50020001.svg\"/></i><span class=\"txt\">케어용품/소모품</span></a></li>\n",
       "</ul>"
      ]
     },
     "execution_count": 57,
     "metadata": {},
     "output_type": "execute_result"
    }
   ],
   "source": [
    "ulTag"
   ]
  },
  {
   "cell_type": "code",
   "execution_count": 58,
   "id": "c8076c76-8e13-42d9-b161-edfd67fa76a6",
   "metadata": {},
   "outputs": [],
   "source": [
    "aTag = ulTag.findAll(name=\"a\")"
   ]
  },
  {
   "cell_type": "code",
   "execution_count": 59,
   "id": "667ba899-699b-429d-887e-7bba4a2106e4",
   "metadata": {
    "collapsed": true,
    "jupyter": {
     "outputs_hidden": true
    },
    "tags": []
   },
   "outputs": [
    {
     "data": {
      "text/plain": [
       "[<a class=\"slide-box\" data-contents=\"TV/AV\" href=\"/tvs\"><i><img alt=\"TV\" src=\"/kr/images/gnb/store/CT50000025.svg\"/></i><span class=\"txt\">TV</span></a>,\n",
       " <a class=\"slide-box\" data-contents=\"TV/AV\" href=\"/projectors\"><i><img alt=\"프로젝터\" src=\"/kr/images/gnb/store/CT50000032.svg\"/></i><span class=\"txt\">프로젝터</span></a>,\n",
       " <a class=\"slide-box\" data-contents=\"TV/AV\" href=\"/home-audio\"><i><img alt=\"AV\" src=\"/kr/images/gnb/store/CT50000036.svg\"/></i><span class=\"txt\">AV</span></a>,\n",
       " <a class=\"slide-box\" data-contents=\"TV/AV\" href=\"/displays\"><i><img alt=\"상업용 디스플레이\" src=\"/kr/images/gnb/store/CT50077000.svg\"/></i><span class=\"txt\">상업용 디스플레이</span></a>,\n",
       " <a class=\"slide-box\" data-contents=\"TV/AV\" href=\"/care-accessories/tv?main=Y\"><i><img alt=\"케어용품/소모품\" src=\"/kr/images/gnb/store/CT50000024_CT50020001.svg\"/></i><span class=\"txt\">케어용품/소모품</span></a>]"
      ]
     },
     "execution_count": 59,
     "metadata": {},
     "output_type": "execute_result"
    }
   ],
   "source": [
    "aTag"
   ]
  },
  {
   "cell_type": "code",
   "execution_count": 60,
   "id": "f75bb9e5-d59d-4800-b565-c2daf0c8235b",
   "metadata": {},
   "outputs": [],
   "source": [
    "aTagLen = len(aTag)                           "
   ]
  },
  {
   "cell_type": "code",
   "execution_count": 61,
   "id": "ce9293f9-554a-4258-a1ea-10bc075e96e8",
   "metadata": {},
   "outputs": [],
   "source": [
    "nameList = []                                \n",
    "linkList = []"
   ]
  },
  {
   "cell_type": "code",
   "execution_count": 62,
   "id": "3dcf05d2-6498-4d62-ae47-5822735928e1",
   "metadata": {},
   "outputs": [],
   "source": [
    "for i in range(0,aTagLen):                   \n",
    "    tagTextName = aTag[i].text\n",
    "    tagLinkInfo = aTag[i].attrs[\"href\"]\n",
    "\n",
    "    nameList.append(tagTextName)\n",
    "    linkList.append(tagLinkInfo)"
   ]
  },
  {
   "cell_type": "code",
   "execution_count": 48,
   "id": "391df0c0-d11e-4bcf-9b6e-975d2f51530c",
   "metadata": {},
   "outputs": [
    {
     "data": {
      "text/plain": [
       "'/care-accessories/tv?main=Y'"
      ]
     },
     "execution_count": 48,
     "metadata": {},
     "output_type": "execute_result"
    }
   ],
   "source": [
    "tagLinkInfo"
   ]
  },
  {
   "cell_type": "code",
   "execution_count": 63,
   "id": "709ff802-01eb-48d0-9ff9-297d3a58de6a",
   "metadata": {},
   "outputs": [
    {
     "data": {
      "text/plain": [
       "['/tvs',\n",
       " '/projectors',\n",
       " '/home-audio',\n",
       " '/displays',\n",
       " '/care-accessories/tv?main=Y']"
      ]
     },
     "execution_count": 63,
     "metadata": {},
     "output_type": "execute_result"
    }
   ],
   "source": [
    "nameList                                \n",
    "linkList                                 "
   ]
  },
  {
   "cell_type": "code",
   "execution_count": 64,
   "id": "90ad1c06-4d1b-4850-815c-144d356a2c69",
   "metadata": {},
   "outputs": [],
   "source": [
    "preFixUrl = \"https://www.lge.co.kr\"\n",
    "for i in range(0,aTagLen):\n",
    "    linkList[i] = preFixUrl + linkList[i]"
   ]
  },
  {
   "cell_type": "code",
   "execution_count": 65,
   "id": "08fc919a-eac9-43c3-9c59-84ae6d31d9cf",
   "metadata": {},
   "outputs": [],
   "source": [
    "exerDf = pd.DataFrame(zip(nameList,linkList), columns = [\"제품명\",\"링크\"])"
   ]
  },
  {
   "cell_type": "code",
   "execution_count": 66,
   "id": "8fbaeb9f-8e8d-4504-b01a-17879010101d",
   "metadata": {},
   "outputs": [
    {
     "data": {
      "text/plain": [
       "['https://www.lge.co.kr/tvs',\n",
       " 'https://www.lge.co.kr/projectors',\n",
       " 'https://www.lge.co.kr/home-audio',\n",
       " 'https://www.lge.co.kr/displays',\n",
       " 'https://www.lge.co.kr/care-accessories/tv?main=Y']"
      ]
     },
     "execution_count": 66,
     "metadata": {},
     "output_type": "execute_result"
    }
   ],
   "source": [
    "linkList"
   ]
  },
  {
   "cell_type": "code",
   "execution_count": 67,
   "id": "4614c0e0-8f33-4b90-9c90-ebd6b87d6bed",
   "metadata": {},
   "outputs": [
    {
     "data": {
      "text/html": [
       "<div>\n",
       "<style scoped>\n",
       "    .dataframe tbody tr th:only-of-type {\n",
       "        vertical-align: middle;\n",
       "    }\n",
       "\n",
       "    .dataframe tbody tr th {\n",
       "        vertical-align: top;\n",
       "    }\n",
       "\n",
       "    .dataframe thead th {\n",
       "        text-align: right;\n",
       "    }\n",
       "</style>\n",
       "<table border=\"1\" class=\"dataframe\">\n",
       "  <thead>\n",
       "    <tr style=\"text-align: right;\">\n",
       "      <th></th>\n",
       "      <th>제품명</th>\n",
       "      <th>링크</th>\n",
       "    </tr>\n",
       "  </thead>\n",
       "  <tbody>\n",
       "    <tr>\n",
       "      <th>0</th>\n",
       "      <td>TV</td>\n",
       "      <td>https://www.lge.co.kr/tvs</td>\n",
       "    </tr>\n",
       "    <tr>\n",
       "      <th>1</th>\n",
       "      <td>프로젝터</td>\n",
       "      <td>https://www.lge.co.kr/projectors</td>\n",
       "    </tr>\n",
       "    <tr>\n",
       "      <th>2</th>\n",
       "      <td>AV</td>\n",
       "      <td>https://www.lge.co.kr/home-audio</td>\n",
       "    </tr>\n",
       "    <tr>\n",
       "      <th>3</th>\n",
       "      <td>상업용 디스플레이</td>\n",
       "      <td>https://www.lge.co.kr/displays</td>\n",
       "    </tr>\n",
       "    <tr>\n",
       "      <th>4</th>\n",
       "      <td>케어용품/소모품</td>\n",
       "      <td>https://www.lge.co.kr/care-accessories/tv?main=Y</td>\n",
       "    </tr>\n",
       "  </tbody>\n",
       "</table>\n",
       "</div>"
      ],
      "text/plain": [
       "         제품명                                                링크\n",
       "0         TV                         https://www.lge.co.kr/tvs\n",
       "1       프로젝터                  https://www.lge.co.kr/projectors\n",
       "2         AV                  https://www.lge.co.kr/home-audio\n",
       "3  상업용 디스플레이                    https://www.lge.co.kr/displays\n",
       "4   케어용품/소모품  https://www.lge.co.kr/care-accessories/tv?main=Y"
      ]
     },
     "execution_count": 67,
     "metadata": {},
     "output_type": "execute_result"
    }
   ],
   "source": [
    "exerDf"
   ]
  },
  {
   "cell_type": "code",
   "execution_count": 32,
   "id": "2240e0c9-5ad7-48a6-b473-08a9e104a49e",
   "metadata": {},
   "outputs": [],
   "source": [
    "exerDf.to_csv(\"./LgePractice.csv\",\n",
    "                 index=False)"
   ]
  },
  {
   "cell_type": "code",
   "execution_count": null,
   "id": "d4022096-eb3f-42ad-bbbc-1de0f4b57093",
   "metadata": {},
   "outputs": [],
   "source": []
  }
 ],
 "metadata": {
  "kernelspec": {
   "display_name": "Python 3 (ipykernel)",
   "language": "python",
   "name": "python3"
  },
  "language_info": {
   "codemirror_mode": {
    "name": "ipython",
    "version": 3
   },
   "file_extension": ".py",
   "mimetype": "text/x-python",
   "name": "python",
   "nbconvert_exporter": "python",
   "pygments_lexer": "ipython3",
   "version": "3.9.7"
  }
 },
 "nbformat": 4,
 "nbformat_minor": 5
}

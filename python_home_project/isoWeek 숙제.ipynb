{
 "cells": [
  {
   "cell_type": "code",
   "execution_count": 1,
   "id": "834492e9-09c7-4743-a7c5-682639f9a9fa",
   "metadata": {},
   "outputs": [],
   "source": [
    "from isoweek import Week"
   ]
  },
  {
   "cell_type": "code",
   "execution_count": 8,
   "id": "cb497916-301f-43cf-ae43-5ee0fca1b36c",
   "metadata": {},
   "outputs": [],
   "source": [
    "def preWeek(inValue1,inValue2):\n",
    "\n",
    "# inValue1 = \"201701\"\n",
    "\n",
    "# inValue2 = 5\n",
    "    if inValue1 == str(inValue1):\n",
    "        inValue1 = int(inValue1)\n",
    "    else:\n",
    "        pass\n",
    "    if inValue2 == str(inValue2):\n",
    "        inValue2 = int(inValue2)\n",
    "    else:\n",
    "        pass\n",
    "\n",
    "    # inValue1은 첫 번째 파라미터의 앞의 4글자, inValue2는 뒤의 2글자이다.\n",
    "    # 최종적으로 모두 int로 캐스팅되어  nextIntValue1 , nextIntValue2로 나온다.\n",
    "    # nextIntValue2를 두번째 파라미터로 뺀다.\n",
    "    #만약 이 값이 1보다 작으면 curryear는  -1d이되고, nextIntValue1는 1이 작이져야한다.\n",
    "    #다음은 각각 inValue1의 앞의 4자리수의 str 형변환(nextInValue1), int 형변환이다.(nextIntValue1)\n",
    "    \n",
    "    nextInValue1 = str(inValue1)[0:4]\n",
    "    nextIntValue1 = int(nextInValue1)\n",
    "\n",
    "    #다음은 각각 inValue2의 뒤의 2자리수의 str 형변환(nextInValue2), int 형변환이다.(nextIntValue2)\n",
    "    \n",
    "    nextInValue2 = str(inValue1)[4:]\n",
    "    nextIntValue2 = int(nextInValue2)\n",
    "\n",
    "    currYear = nextIntValue1\n",
    "    currYearToInt = int(currYear)\n",
    "    \n",
    "    #for문을 돌려야 한다.\n",
    "    #처음에 받은 inValue2값만큼 길이를 정하고, 이를 nextIntValue2에서 inValue2의 수만큼 빼버린다.\n",
    "    #i의 시작점은 0이므로 0부터 빼게된다. 그러므로 -1 해줘야 한다.\n",
    "    #년도를 내려가기 위해 if문을 활용해야 한다.\n",
    "    \n",
    "    for i in range(0,int(inValue2)):\n",
    "           weekOutValue = nextIntValue2-i-1\n",
    "    if weekOutValue > 0:\n",
    "        newCurrYear = currYearToInt\n",
    "        newWeek = nextIntValue2 - weekOutValue\n",
    "    elif weekOutValue > -52:\n",
    "        newCurrYear = currYearToInt-1\n",
    "        newWeek = (Week.last_week_of_year(currYearToInt-1).week) + weekOutValue\n",
    "    elif weekOutValue < -52:\n",
    "        newCurrYear = currYearToInt-2\n",
    "        newWeek = (Week.last_week_of_year(currYearToInt-2).week)+(weekOutValue + Week.last_week_of_year(currYearToInt-1).week)\n",
    "    \n",
    "    #스트링으로 변환해 출력, 리턴\n",
    "    finalOut = str(newCurrYear) + str(newWeek)\n",
    "\n",
    "    return finalOut"
   ]
  },
  {
   "cell_type": "code",
   "execution_count": 3,
   "id": "bbd386b2-071e-4b64-a764-366ff7185132",
   "metadata": {},
   "outputs": [
    {
     "data": {
      "text/plain": [
       "'201710'"
      ]
     },
     "execution_count": 3,
     "metadata": {},
     "output_type": "execute_result"
    }
   ],
   "source": [
    "preWeek(201720,10)"
   ]
  },
  {
   "cell_type": "code",
   "execution_count": 4,
   "id": "675c8d3f-83c2-4a1e-aaf9-411eec270a08",
   "metadata": {},
   "outputs": [
    {
     "data": {
      "text/plain": [
       "'201648'"
      ]
     },
     "execution_count": 4,
     "metadata": {},
     "output_type": "execute_result"
    }
   ],
   "source": [
    "preWeek(\"201701\",5)"
   ]
  },
  {
   "cell_type": "code",
   "execution_count": 5,
   "id": "4d16c5e4-2854-48f5-b8c1-f6a0cc4cc407",
   "metadata": {},
   "outputs": [
    {
     "data": {
      "text/plain": [
       "'201525'"
      ]
     },
     "execution_count": 5,
     "metadata": {},
     "output_type": "execute_result"
    }
   ],
   "source": [
    "preWeek(201720,\"100\")"
   ]
  },
  {
   "cell_type": "code",
   "execution_count": null,
   "id": "61189a93-ca63-4031-be52-695a7e60e508",
   "metadata": {},
   "outputs": [],
   "source": []
  }
 ],
 "metadata": {
  "kernelspec": {
   "display_name": "Python 3 (ipykernel)",
   "language": "python",
   "name": "python3"
  },
  "language_info": {
   "codemirror_mode": {
    "name": "ipython",
    "version": 3
   },
   "file_extension": ".py",
   "mimetype": "text/x-python",
   "name": "python",
   "nbconvert_exporter": "python",
   "pygments_lexer": "ipython3",
   "version": "3.9.7"
  }
 },
 "nbformat": 4,
 "nbformat_minor": 5
}

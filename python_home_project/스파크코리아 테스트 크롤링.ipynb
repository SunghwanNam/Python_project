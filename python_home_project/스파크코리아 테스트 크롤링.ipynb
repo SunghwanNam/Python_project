{
 "cells": [
  {
   "cell_type": "code",
   "execution_count": 1,
   "id": "482e941e-c02d-437b-afcb-493b0d12088b",
   "metadata": {},
   "outputs": [],
   "source": [
    "#필요한 라이브러리를 호출한다.\n",
    "import pandas as pd\n",
    "import requests\n",
    "import bs4"
   ]
  },
  {
   "cell_type": "code",
   "execution_count": 2,
   "id": "4cd823ab-a0e6-40cc-8700-da2c81ea2f09",
   "metadata": {},
   "outputs": [],
   "source": [
    "testUrl = \"https://sparkkorea.com/%ed%85%8c%ec%8a%a4%ed%8a%b8/\""
   ]
  },
  {
   "cell_type": "code",
   "execution_count": 3,
   "id": "f2a2e610-bf40-427a-811c-e282bc36d7c2",
   "metadata": {},
   "outputs": [],
   "source": [
    "resp = requests.get(testUrl)"
   ]
  },
  {
   "cell_type": "code",
   "execution_count": 4,
   "id": "f45efb8c-1bf1-46d3-9f6a-d42e97edc30f",
   "metadata": {},
   "outputs": [],
   "source": [
    "htmlTest = resp.text"
   ]
  },
  {
   "cell_type": "code",
   "execution_count": 5,
   "id": "5b6a5304-b0dd-47c6-8126-cf2da94a47ae",
   "metadata": {},
   "outputs": [],
   "source": [
    "bs = bs4.BeautifulSoup(htmlTest, \"html.parser\")"
   ]
  },
  {
   "cell_type": "code",
   "execution_count": 6,
   "id": "15819f89-dca4-4404-8aee-0069cb6e2e84",
   "metadata": {
    "tags": []
   },
   "outputs": [],
   "source": [
    "tbodyTag = bs.find(name=\"tbody\")"
   ]
  },
  {
   "cell_type": "code",
   "execution_count": 44,
   "id": "e0fde753-70b3-4ac5-a9b8-b23c03072543",
   "metadata": {
    "collapsed": true,
    "jupyter": {
     "outputs_hidden": true
    },
    "tags": []
   },
   "outputs": [
    {
     "data": {
      "text/plain": [
       "<tbody>\n",
       "<tr>\n",
       "<td>101</td>\n",
       "<td>김효관</td>\n",
       "</tr>\n",
       "<tr>\n",
       "<td>102</td>\n",
       "<td>이순신</td>\n",
       "</tr>\n",
       "<tr>\n",
       "<td>103</td>\n",
       "<td>김어진</td>\n",
       "</tr>\n",
       "</tbody>"
      ]
     },
     "execution_count": 44,
     "metadata": {},
     "output_type": "execute_result"
    }
   ],
   "source": [
    "tbodyTag"
   ]
  },
  {
   "cell_type": "code",
   "execution_count": 45,
   "id": "def6e92b-837c-4791-8350-23ad77a2edcb",
   "metadata": {},
   "outputs": [],
   "source": [
    "theadTag = bs.find(name=\"thead\")"
   ]
  },
  {
   "cell_type": "code",
   "execution_count": 47,
   "id": "488ae9c5-0611-4770-919b-3d4d8da8834f",
   "metadata": {},
   "outputs": [],
   "source": [
    "thTag = theadTag.findAll(name=\"th\")"
   ]
  },
  {
   "cell_type": "code",
   "execution_count": 57,
   "id": "ff7ade17-3a98-43f3-8a79-3f10f12ef22b",
   "metadata": {},
   "outputs": [],
   "source": [
    "FirstColumnList1 = []"
   ]
  },
  {
   "cell_type": "code",
   "execution_count": 58,
   "id": "51351591-9a25-424e-8334-37da21e093bb",
   "metadata": {},
   "outputs": [],
   "source": [
    "for i in range(0,thTagLen):\n",
    "    FirstColumnList1.append(thTag[i].text)"
   ]
  },
  {
   "cell_type": "code",
   "execution_count": 59,
   "id": "a627680b-9bce-4696-a999-09dddc04fc23",
   "metadata": {},
   "outputs": [
    {
     "data": {
      "text/plain": [
       "['학번', '이름']"
      ]
     },
     "execution_count": 59,
     "metadata": {},
     "output_type": "execute_result"
    }
   ],
   "source": [
    "FirstColumnList1"
   ]
  },
  {
   "cell_type": "code",
   "execution_count": 56,
   "id": "50faa0a9-82d2-4907-a429-9e42798edfe5",
   "metadata": {},
   "outputs": [],
   "source": [
    "thTagLen = len(thTag)"
   ]
  },
  {
   "cell_type": "code",
   "execution_count": 54,
   "id": "3fea49ee-75cc-4456-93ba-890a1c78548e",
   "metadata": {},
   "outputs": [
    {
     "data": {
      "text/plain": [
       "'학번'"
      ]
     },
     "execution_count": 54,
     "metadata": {},
     "output_type": "execute_result"
    }
   ],
   "source": [
    "thTag[0].text"
   ]
  },
  {
   "cell_type": "code",
   "execution_count": 53,
   "id": "a1309a34-5b54-4b0a-bbe1-48938fb3bffd",
   "metadata": {},
   "outputs": [
    {
     "data": {
      "text/plain": [
       "'이름'"
      ]
     },
     "execution_count": 53,
     "metadata": {},
     "output_type": "execute_result"
    }
   ],
   "source": [
    "thTag[1].text"
   ]
  },
  {
   "cell_type": "code",
   "execution_count": 8,
   "id": "77665c22-a8ed-4d63-96bd-637486e4685b",
   "metadata": {},
   "outputs": [],
   "source": [
    "tdTag = bs.findAll(name=\"td\")"
   ]
  },
  {
   "cell_type": "code",
   "execution_count": 9,
   "id": "7b70ca22-ea04-4c03-bdde-9c2e764c6811",
   "metadata": {
    "collapsed": true,
    "jupyter": {
     "outputs_hidden": true
    },
    "tags": []
   },
   "outputs": [
    {
     "data": {
      "text/plain": [
       "[<td>101</td>,\n",
       " <td>김효관</td>,\n",
       " <td>102</td>,\n",
       " <td>이순신</td>,\n",
       " <td>103</td>,\n",
       " <td>김어진</td>]"
      ]
     },
     "execution_count": 9,
     "metadata": {},
     "output_type": "execute_result"
    }
   ],
   "source": [
    "tdTag"
   ]
  },
  {
   "cell_type": "code",
   "execution_count": 10,
   "id": "ba6957c5-4696-41d9-8b2e-d55e04841053",
   "metadata": {},
   "outputs": [],
   "source": [
    "tdTagLen = len(tdTag)"
   ]
  },
  {
   "cell_type": "code",
   "execution_count": 21,
   "id": "7546a027-4381-4054-b4f9-f6d6f0d90d18",
   "metadata": {},
   "outputs": [],
   "source": [
    "columnList1 = []\n",
    "columnList2 = []"
   ]
  },
  {
   "cell_type": "code",
   "execution_count": 34,
   "id": "48daa186-c1e3-4461-939e-c58921e62687",
   "metadata": {},
   "outputs": [],
   "source": [
    "for i in range(0,tdTagLen,2):\n",
    "\n",
    "    textTdTag = tdTag[i].text\n",
    "\n",
    "    textTdTag\n",
    "\n",
    "    columnList1.append(textTdTag)\n",
    "\n",
    "    columnList1"
   ]
  },
  {
   "cell_type": "code",
   "execution_count": 22,
   "id": "21db46a8-8f2e-4af5-ad58-13a3a512f85d",
   "metadata": {},
   "outputs": [],
   "source": [
    "for i in range(1,tdTagLen,2):\n",
    "\n",
    "    textTdTag = tdTag[i].text\n",
    "\n",
    "    textTdTag\n",
    "\n",
    "    columnList2.append(textTdTag)\n",
    "\n",
    "    columnList2"
   ]
  },
  {
   "cell_type": "code",
   "execution_count": 37,
   "id": "4f186931-1792-4a91-ba53-fb170becc99a",
   "metadata": {},
   "outputs": [
    {
     "data": {
      "text/plain": [
       "['김효관', '이순신', '김어진']"
      ]
     },
     "execution_count": 37,
     "metadata": {},
     "output_type": "execute_result"
    }
   ],
   "source": [
    "columnList2"
   ]
  },
  {
   "cell_type": "code",
   "execution_count": 35,
   "id": "3664a9d3-9c0a-42cd-b936-4ce52e59b67b",
   "metadata": {},
   "outputs": [
    {
     "data": {
      "text/plain": [
       "['101', '102', '103']"
      ]
     },
     "execution_count": 35,
     "metadata": {},
     "output_type": "execute_result"
    }
   ],
   "source": [
    "columnList1"
   ]
  },
  {
   "cell_type": "code",
   "execution_count": 60,
   "id": "57ed7798-ca28-4603-a568-fa6ebf6fbae2",
   "metadata": {},
   "outputs": [],
   "source": [
    "zipColumnList = pd.DataFrame(zip(columnList1,columnList2), columns=FirstColumnList1)"
   ]
  },
  {
   "cell_type": "code",
   "execution_count": 61,
   "id": "f1a7f5a2-d277-43da-bb1c-01f3c98d3236",
   "metadata": {},
   "outputs": [
    {
     "data": {
      "text/html": [
       "<div>\n",
       "<style scoped>\n",
       "    .dataframe tbody tr th:only-of-type {\n",
       "        vertical-align: middle;\n",
       "    }\n",
       "\n",
       "    .dataframe tbody tr th {\n",
       "        vertical-align: top;\n",
       "    }\n",
       "\n",
       "    .dataframe thead th {\n",
       "        text-align: right;\n",
       "    }\n",
       "</style>\n",
       "<table border=\"1\" class=\"dataframe\">\n",
       "  <thead>\n",
       "    <tr style=\"text-align: right;\">\n",
       "      <th></th>\n",
       "      <th>학번</th>\n",
       "      <th>이름</th>\n",
       "    </tr>\n",
       "  </thead>\n",
       "  <tbody>\n",
       "    <tr>\n",
       "      <th>0</th>\n",
       "      <td>101</td>\n",
       "      <td>김효관</td>\n",
       "    </tr>\n",
       "    <tr>\n",
       "      <th>1</th>\n",
       "      <td>102</td>\n",
       "      <td>이순신</td>\n",
       "    </tr>\n",
       "    <tr>\n",
       "      <th>2</th>\n",
       "      <td>103</td>\n",
       "      <td>김어진</td>\n",
       "    </tr>\n",
       "  </tbody>\n",
       "</table>\n",
       "</div>"
      ],
      "text/plain": [
       "    학번   이름\n",
       "0  101  김효관\n",
       "1  102  이순신\n",
       "2  103  김어진"
      ]
     },
     "execution_count": 61,
     "metadata": {},
     "output_type": "execute_result"
    }
   ],
   "source": [
    "zipColumnList"
   ]
  },
  {
   "cell_type": "code",
   "execution_count": null,
   "id": "b972bb0b-1c24-45ce-8fb7-898e0407443b",
   "metadata": {},
   "outputs": [],
   "source": []
  }
 ],
 "metadata": {
  "kernelspec": {
   "display_name": "Python 3 (ipykernel)",
   "language": "python",
   "name": "python3"
  },
  "language_info": {
   "codemirror_mode": {
    "name": "ipython",
    "version": 3
   },
   "file_extension": ".py",
   "mimetype": "text/x-python",
   "name": "python",
   "nbconvert_exporter": "python",
   "pygments_lexer": "ipython3",
   "version": "3.9.7"
  }
 },
 "nbformat": 4,
 "nbformat_minor": 5
}
